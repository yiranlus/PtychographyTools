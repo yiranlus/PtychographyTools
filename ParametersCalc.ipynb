{
 "cells": [
  {
   "cell_type": "code",
   "execution_count": 197,
   "metadata": {},
   "outputs": [],
   "source": [
    "import pint\n",
    "ureg = pint.UnitRegistry()\n",
    "ureg.default_format = \"P~\"\n",
    "Q_ = ureg.Quantity\n",
    "\n",
    "from scipy import constants\n",
    "def C_(name: str):\n",
    "    return Q_(constants.value(name), constants.unit(name))\n",
    "h = C_(\"Planck constant\")\n",
    "c = C_(\"speed of light in vacuum\")\n",
    "m_e = C_(\"electron mass\")\n",
    "e = C_(\"elementary charge\")\n",
    "\n",
    "import numpy as np"
   ]
  },
  {
   "cell_type": "code",
   "execution_count": 221,
   "metadata": {},
   "outputs": [],
   "source": [
    "convergence_semiangle = Q_(0.18, \"mrad\")/ureg.rad # radian usually ignored\n",
    "#convergence_semiangle_in_pixel = Q_(20, \"pixel\")\n",
    "\n",
    "detector_distance = Q_(1.32, \"meter\")\n",
    "detector_rebin_factor = 2\n",
    "detector_pixel_size = Q_(55, \"micrometer/pixel\") * detector_rebin_factor\n",
    "detector_dimension = 256//detector_rebin_factor\n",
    "#detector_distance = convergence_semiangle_in_pixel * detector_pixel_size / convergence_semiangle\n",
    "convergence_semiangle_in_pixel = detector_distance * convergence_semiangle / detector_pixel_size\n",
    "\n",
    "acceleration_voltage = Q_(200, \"kilovolt\")\n",
    "wavelength = np.sqrt(\n",
    "    ((h**2 * c**2)/\n",
    "    (e*acceleration_voltage*(2*m_e*c**2 + e*acceleration_voltage)))).to(\"meter\")\n",
    "\n",
    "padding_factor = 2"
   ]
  },
  {
   "cell_type": "code",
   "execution_count": 222,
   "metadata": {},
   "outputs": [],
   "source": [
    "resolution_reciprocal_space_rad = convergence_semiangle*ureg.rad/convergence_semiangle_in_pixel\n",
    "resolution_reciprocal_space = 2*convergence_semiangle/(wavelength*convergence_semiangle_in_pixel*2)\n",
    "resolution_real_space = 1/(resolution_reciprocal_space*Q_(detector_dimension*padding_factor, \"pixel\"))/ureg.pixel\n",
    "size_real_space = 1/resolution_reciprocal_space/ureg.pixel\n",
    "real_space_dimension = size_real_space/resolution_real_space"
   ]
  },
  {
   "cell_type": "code",
   "execution_count": 223,
   "metadata": {},
   "outputs": [],
   "source": [
    "real_space_sampling = Q_(6, \"nm\")\n",
    "real_space_probe_diameter = Q_(10, \"nm\")\n",
    "alpha = (real_space_sampling/real_space_probe_diameter).to(\"\")\n",
    "\n",
    "Shannon_sampling = 2*constants.pi / real_space_probe_diameter\n",
    "beta = (2*constants.pi*resolution_reciprocal_space * ureg.pixel/Shannon_sampling).to(\"\")"
   ]
  },
  {
   "cell_type": "code",
   "execution_count": 224,
   "metadata": {},
   "outputs": [
    {
     "name": "stdout",
     "output_type": "stream",
     "text": [
      "Controllable Parameters\n",
      "  Convergence Semi-Angle:         0.18 mrad\n",
      "  Acceleration Voltage:           200 kV\n",
      "  Detector Distance:              1.32 m\n",
      "  Detector Dimension:             128\n",
      "  Detector Pixel Size:            110 µm/pixel\n",
      "  Reciprocal Space Resolution:    8.333333333333333×10⁻⁵ rad/pixel\n",
      "  Reciprocal Space Resolution:    33227880.732211385 1/m/pixel\n",
      "\n",
      "Ptychography Reconstruction Parameters\n",
      "  Real Space Resolution:          1.1755940836194374 Å/pixel\n",
      "  Real Space Size:                300.952085406576 Å\n",
      "  Real Space Dimension:           256.0 pixel\n",
      "\n",
      "Sampling Criteria\n",
      "  Real Sampling (R):              6 nm\n",
      "  Real Space Probe Diameter (D):  10 nm\n",
      "  alpha (R/D) (should be < 1):    0.6\n",
      "  Reciprocal Sampling (Q):        33227880.732211385 1/m\n",
      "  Shannon Sampling (q):           628318530.7179586 1/m\n",
      "  beta (Q/q) (should be < 1):     0.3322788073221139\n",
      "  1/(alpha*beta) (should be > 2): 5.015868090109598\n"
     ]
    }
   ],
   "source": [
    "print(f\"Controllable Parameters\")\n",
    "print(f\"  Convergence Semi-Angle:         {convergence_semiangle.to('mrad')}\")\n",
    "print(f\"  Acceleration Voltage:           {acceleration_voltage.to('kV')}\")\n",
    "print(f\"  Detector Distance:              {detector_distance.to('m')}\")\n",
    "print(f\"  Detector Dimension:             {detector_dimension}\")\n",
    "print(f\"  Detector Pixel Size:            {detector_pixel_size.to('um/pixel')}\")\n",
    "print(f\"  Reciprocal Space Resolution:    {resolution_reciprocal_space_rad.to('rad/pixel')}\")\n",
    "print(f\"  Reciprocal Space Resolution:    {resolution_reciprocal_space.to('m^-1/pixel')}\")\n",
    "print(f\"\")\n",
    "print(f\"Ptychography Reconstruction Parameters\")\n",
    "print(f\"  Real Space Resolution:          {resolution_real_space.to('angstrom/pixel')}\")\n",
    "print(f\"  Real Space Size:                {size_real_space.to('angstrom')}\")\n",
    "print(f\"  Real Space Dimension:           {real_space_dimension}\")\n",
    "print(f\"\")\n",
    "print(f\"Sampling Criteria\")\n",
    "print(f\"  Real Sampling (R):              {real_space_sampling}\")\n",
    "print(f\"  Real Space Probe Diameter (D):  {real_space_probe_diameter}\")\n",
    "print(f\"  alpha (R/D) (should be < 1):    {alpha}\")\n",
    "print(f\"  Reciprocal Sampling (Q):        {(resolution_reciprocal_space * ureg.pixel).to('1/m')}\")\n",
    "print(f\"  Shannon Sampling (q):           {Shannon_sampling.to('1/m')}\")\n",
    "print(f\"  beta (Q/q) (should be < 1):     {beta}\")\n",
    "print(f\"  1/(alpha*beta) (should be > 2): {1/(alpha*beta)}\")"
   ]
  },
  {
   "cell_type": "code",
   "execution_count": null,
   "metadata": {},
   "outputs": [],
   "source": []
  }
 ],
 "metadata": {
  "interpreter": {
   "hash": "489e3cf08c6779ec3ce8fbd11a25d8bbe014bea4c89a6171fa11ea8014c0a376"
  },
  "kernelspec": {
   "display_name": "Python 3.8.12 ('ResearchEnvs')",
   "language": "python",
   "name": "python3"
  },
  "language_info": {
   "codemirror_mode": {
    "name": "ipython",
    "version": 3
   },
   "file_extension": ".py",
   "mimetype": "text/x-python",
   "name": "python",
   "nbconvert_exporter": "python",
   "pygments_lexer": "ipython3",
   "version": "3.8.12"
  },
  "orig_nbformat": 4
 },
 "nbformat": 4,
 "nbformat_minor": 2
}
